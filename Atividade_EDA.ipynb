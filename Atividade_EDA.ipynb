{
  "nbformat": 4,
  "nbformat_minor": 0,
  "metadata": {
    "colab": {
      "name": "Atividade EDA.ipynb",
      "provenance": [],
      "collapsed_sections": [],
      "authorship_tag": "ABX9TyMiIu42l1fTHUqRRsoU6msN",
      "include_colab_link": true
    },
    "kernelspec": {
      "name": "python3",
      "display_name": "Python 3"
    },
    "language_info": {
      "name": "python"
    }
  },
  "cells": [
    {
      "cell_type": "markdown",
      "metadata": {
        "id": "view-in-github",
        "colab_type": "text"
      },
      "source": [
        "<a href=\"https://colab.research.google.com/github/marcoseadr/Pos-graduacao-Big-Data/blob/main/Atividade_EDA.ipynb\" target=\"_parent\"><img src=\"https://colab.research.google.com/assets/colab-badge.svg\" alt=\"Open In Colab\"/></a>"
      ]
    },
    {
      "cell_type": "code",
      "execution_count": null,
      "metadata": {
        "id": "L10Ksb0pU_2B"
      },
      "outputs": [],
      "source": [
        "import numpy as np\n",
        "import pandas as pd\n",
        "import matplotlib.pyplot as plt\n",
        "%matplotlib inline\n",
        "import seaborn as sns\n"
      ]
    },
    {
      "cell_type": "markdown",
      "source": [
        "Exploração Inicial de um Dataframe que possui o histórico da inflação anual em porcentagem de todos os países."
      ],
      "metadata": {
        "id": "52l_3aubjott"
      }
    },
    {
      "cell_type": "code",
      "source": [
        "#Exploração Inicial\n",
        "inflacao = pd.read_csv('https://raw.githubusercontent.com/marcoseadr/Pos-graduacao-Big-Data/main/inflation_annual_percent.csv',)\n",
        "display(inflacao.shape)\n",
        "display(inflacao.head())\n",
        "inflacao.dtypes"
      ],
      "metadata": {
        "colab": {
          "base_uri": "https://localhost:8080/",
          "height": 461
        },
        "id": "rwwhKtPxV5zp",
        "outputId": "7ffce53d-9527-4d25-e6b1-6371ac8053cb"
      },
      "execution_count": null,
      "outputs": [
        {
          "output_type": "display_data",
          "data": {
            "text/plain": [
              "(212, 61)"
            ]
          },
          "metadata": {}
        },
        {
          "output_type": "display_data",
          "data": {
            "text/plain": [
              "       country 1960 1961 1962 1963 1964 1965 1966 1967 1968  ...   2010  \\\n",
              "0        Aruba  NaN  NaN  NaN  NaN  NaN  NaN  NaN  NaN  NaN  ...   3.11   \n",
              "1  Afghanistan  NaN  NaN  NaN  NaN  NaN  NaN  NaN  NaN  NaN  ...   16.6   \n",
              "2       Angola  NaN  NaN  NaN  NaN  NaN  NaN  NaN  NaN  NaN  ...   31.8   \n",
              "3      Albania  NaN  NaN  NaN  NaN  NaN  NaN  NaN  NaN  NaN  ...   2.31   \n",
              "4      Andorra  NaN  NaN  NaN  NaN  NaN  NaN  NaN  NaN  NaN  ...  0.197   \n",
              "\n",
              "    2011   2012    2013   2014    2015  2016  2017   2018    2019  \n",
              "0  0.789   3.29       2   0.44   −1.37  1.61   NaN    NaN     NaN  \n",
              "1    7.3   4.82   0.567   2.45    −2.2   2.4  2.07   6.52     5.5  \n",
              "2   7.26   2.84    3.56  −3.52    21.8  22.6  29.1   28.1    15.1  \n",
              "3   1.04  0.289    1.55  0.564  −0.632  1.45  1.36  0.477  −0.965  \n",
              "4  0.175  0.448  −0.084  0.661   0.348  1.14  1.01   1.37    1.06  \n",
              "\n",
              "[5 rows x 61 columns]"
            ],
            "text/html": [
              "\n",
              "  <div id=\"df-47544193-afc8-43ea-a2cf-1b10eb3cc449\">\n",
              "    <div class=\"colab-df-container\">\n",
              "      <div>\n",
              "<style scoped>\n",
              "    .dataframe tbody tr th:only-of-type {\n",
              "        vertical-align: middle;\n",
              "    }\n",
              "\n",
              "    .dataframe tbody tr th {\n",
              "        vertical-align: top;\n",
              "    }\n",
              "\n",
              "    .dataframe thead th {\n",
              "        text-align: right;\n",
              "    }\n",
              "</style>\n",
              "<table border=\"1\" class=\"dataframe\">\n",
              "  <thead>\n",
              "    <tr style=\"text-align: right;\">\n",
              "      <th></th>\n",
              "      <th>country</th>\n",
              "      <th>1960</th>\n",
              "      <th>1961</th>\n",
              "      <th>1962</th>\n",
              "      <th>1963</th>\n",
              "      <th>1964</th>\n",
              "      <th>1965</th>\n",
              "      <th>1966</th>\n",
              "      <th>1967</th>\n",
              "      <th>1968</th>\n",
              "      <th>...</th>\n",
              "      <th>2010</th>\n",
              "      <th>2011</th>\n",
              "      <th>2012</th>\n",
              "      <th>2013</th>\n",
              "      <th>2014</th>\n",
              "      <th>2015</th>\n",
              "      <th>2016</th>\n",
              "      <th>2017</th>\n",
              "      <th>2018</th>\n",
              "      <th>2019</th>\n",
              "    </tr>\n",
              "  </thead>\n",
              "  <tbody>\n",
              "    <tr>\n",
              "      <th>0</th>\n",
              "      <td>Aruba</td>\n",
              "      <td>NaN</td>\n",
              "      <td>NaN</td>\n",
              "      <td>NaN</td>\n",
              "      <td>NaN</td>\n",
              "      <td>NaN</td>\n",
              "      <td>NaN</td>\n",
              "      <td>NaN</td>\n",
              "      <td>NaN</td>\n",
              "      <td>NaN</td>\n",
              "      <td>...</td>\n",
              "      <td>3.11</td>\n",
              "      <td>0.789</td>\n",
              "      <td>3.29</td>\n",
              "      <td>2</td>\n",
              "      <td>0.44</td>\n",
              "      <td>−1.37</td>\n",
              "      <td>1.61</td>\n",
              "      <td>NaN</td>\n",
              "      <td>NaN</td>\n",
              "      <td>NaN</td>\n",
              "    </tr>\n",
              "    <tr>\n",
              "      <th>1</th>\n",
              "      <td>Afghanistan</td>\n",
              "      <td>NaN</td>\n",
              "      <td>NaN</td>\n",
              "      <td>NaN</td>\n",
              "      <td>NaN</td>\n",
              "      <td>NaN</td>\n",
              "      <td>NaN</td>\n",
              "      <td>NaN</td>\n",
              "      <td>NaN</td>\n",
              "      <td>NaN</td>\n",
              "      <td>...</td>\n",
              "      <td>16.6</td>\n",
              "      <td>7.3</td>\n",
              "      <td>4.82</td>\n",
              "      <td>0.567</td>\n",
              "      <td>2.45</td>\n",
              "      <td>−2.2</td>\n",
              "      <td>2.4</td>\n",
              "      <td>2.07</td>\n",
              "      <td>6.52</td>\n",
              "      <td>5.5</td>\n",
              "    </tr>\n",
              "    <tr>\n",
              "      <th>2</th>\n",
              "      <td>Angola</td>\n",
              "      <td>NaN</td>\n",
              "      <td>NaN</td>\n",
              "      <td>NaN</td>\n",
              "      <td>NaN</td>\n",
              "      <td>NaN</td>\n",
              "      <td>NaN</td>\n",
              "      <td>NaN</td>\n",
              "      <td>NaN</td>\n",
              "      <td>NaN</td>\n",
              "      <td>...</td>\n",
              "      <td>31.8</td>\n",
              "      <td>7.26</td>\n",
              "      <td>2.84</td>\n",
              "      <td>3.56</td>\n",
              "      <td>−3.52</td>\n",
              "      <td>21.8</td>\n",
              "      <td>22.6</td>\n",
              "      <td>29.1</td>\n",
              "      <td>28.1</td>\n",
              "      <td>15.1</td>\n",
              "    </tr>\n",
              "    <tr>\n",
              "      <th>3</th>\n",
              "      <td>Albania</td>\n",
              "      <td>NaN</td>\n",
              "      <td>NaN</td>\n",
              "      <td>NaN</td>\n",
              "      <td>NaN</td>\n",
              "      <td>NaN</td>\n",
              "      <td>NaN</td>\n",
              "      <td>NaN</td>\n",
              "      <td>NaN</td>\n",
              "      <td>NaN</td>\n",
              "      <td>...</td>\n",
              "      <td>2.31</td>\n",
              "      <td>1.04</td>\n",
              "      <td>0.289</td>\n",
              "      <td>1.55</td>\n",
              "      <td>0.564</td>\n",
              "      <td>−0.632</td>\n",
              "      <td>1.45</td>\n",
              "      <td>1.36</td>\n",
              "      <td>0.477</td>\n",
              "      <td>−0.965</td>\n",
              "    </tr>\n",
              "    <tr>\n",
              "      <th>4</th>\n",
              "      <td>Andorra</td>\n",
              "      <td>NaN</td>\n",
              "      <td>NaN</td>\n",
              "      <td>NaN</td>\n",
              "      <td>NaN</td>\n",
              "      <td>NaN</td>\n",
              "      <td>NaN</td>\n",
              "      <td>NaN</td>\n",
              "      <td>NaN</td>\n",
              "      <td>NaN</td>\n",
              "      <td>...</td>\n",
              "      <td>0.197</td>\n",
              "      <td>0.175</td>\n",
              "      <td>0.448</td>\n",
              "      <td>−0.084</td>\n",
              "      <td>0.661</td>\n",
              "      <td>0.348</td>\n",
              "      <td>1.14</td>\n",
              "      <td>1.01</td>\n",
              "      <td>1.37</td>\n",
              "      <td>1.06</td>\n",
              "    </tr>\n",
              "  </tbody>\n",
              "</table>\n",
              "<p>5 rows × 61 columns</p>\n",
              "</div>\n",
              "      <button class=\"colab-df-convert\" onclick=\"convertToInteractive('df-47544193-afc8-43ea-a2cf-1b10eb3cc449')\"\n",
              "              title=\"Convert this dataframe to an interactive table.\"\n",
              "              style=\"display:none;\">\n",
              "        \n",
              "  <svg xmlns=\"http://www.w3.org/2000/svg\" height=\"24px\"viewBox=\"0 0 24 24\"\n",
              "       width=\"24px\">\n",
              "    <path d=\"M0 0h24v24H0V0z\" fill=\"none\"/>\n",
              "    <path d=\"M18.56 5.44l.94 2.06.94-2.06 2.06-.94-2.06-.94-.94-2.06-.94 2.06-2.06.94zm-11 1L8.5 8.5l.94-2.06 2.06-.94-2.06-.94L8.5 2.5l-.94 2.06-2.06.94zm10 10l.94 2.06.94-2.06 2.06-.94-2.06-.94-.94-2.06-.94 2.06-2.06.94z\"/><path d=\"M17.41 7.96l-1.37-1.37c-.4-.4-.92-.59-1.43-.59-.52 0-1.04.2-1.43.59L10.3 9.45l-7.72 7.72c-.78.78-.78 2.05 0 2.83L4 21.41c.39.39.9.59 1.41.59.51 0 1.02-.2 1.41-.59l7.78-7.78 2.81-2.81c.8-.78.8-2.07 0-2.86zM5.41 20L4 18.59l7.72-7.72 1.47 1.35L5.41 20z\"/>\n",
              "  </svg>\n",
              "      </button>\n",
              "      \n",
              "  <style>\n",
              "    .colab-df-container {\n",
              "      display:flex;\n",
              "      flex-wrap:wrap;\n",
              "      gap: 12px;\n",
              "    }\n",
              "\n",
              "    .colab-df-convert {\n",
              "      background-color: #E8F0FE;\n",
              "      border: none;\n",
              "      border-radius: 50%;\n",
              "      cursor: pointer;\n",
              "      display: none;\n",
              "      fill: #1967D2;\n",
              "      height: 32px;\n",
              "      padding: 0 0 0 0;\n",
              "      width: 32px;\n",
              "    }\n",
              "\n",
              "    .colab-df-convert:hover {\n",
              "      background-color: #E2EBFA;\n",
              "      box-shadow: 0px 1px 2px rgba(60, 64, 67, 0.3), 0px 1px 3px 1px rgba(60, 64, 67, 0.15);\n",
              "      fill: #174EA6;\n",
              "    }\n",
              "\n",
              "    [theme=dark] .colab-df-convert {\n",
              "      background-color: #3B4455;\n",
              "      fill: #D2E3FC;\n",
              "    }\n",
              "\n",
              "    [theme=dark] .colab-df-convert:hover {\n",
              "      background-color: #434B5C;\n",
              "      box-shadow: 0px 1px 3px 1px rgba(0, 0, 0, 0.15);\n",
              "      filter: drop-shadow(0px 1px 2px rgba(0, 0, 0, 0.3));\n",
              "      fill: #FFFFFF;\n",
              "    }\n",
              "  </style>\n",
              "\n",
              "      <script>\n",
              "        const buttonEl =\n",
              "          document.querySelector('#df-47544193-afc8-43ea-a2cf-1b10eb3cc449 button.colab-df-convert');\n",
              "        buttonEl.style.display =\n",
              "          google.colab.kernel.accessAllowed ? 'block' : 'none';\n",
              "\n",
              "        async function convertToInteractive(key) {\n",
              "          const element = document.querySelector('#df-47544193-afc8-43ea-a2cf-1b10eb3cc449');\n",
              "          const dataTable =\n",
              "            await google.colab.kernel.invokeFunction('convertToInteractive',\n",
              "                                                     [key], {});\n",
              "          if (!dataTable) return;\n",
              "\n",
              "          const docLinkHtml = 'Like what you see? Visit the ' +\n",
              "            '<a target=\"_blank\" href=https://colab.research.google.com/notebooks/data_table.ipynb>data table notebook</a>'\n",
              "            + ' to learn more about interactive tables.';\n",
              "          element.innerHTML = '';\n",
              "          dataTable['output_type'] = 'display_data';\n",
              "          await google.colab.output.renderOutput(dataTable, element);\n",
              "          const docLink = document.createElement('div');\n",
              "          docLink.innerHTML = docLinkHtml;\n",
              "          element.appendChild(docLink);\n",
              "        }\n",
              "      </script>\n",
              "    </div>\n",
              "  </div>\n",
              "  "
            ]
          },
          "metadata": {}
        },
        {
          "output_type": "execute_result",
          "data": {
            "text/plain": [
              "country    object\n",
              "1960       object\n",
              "1961       object\n",
              "1962       object\n",
              "1963       object\n",
              "            ...  \n",
              "2015       object\n",
              "2016       object\n",
              "2017       object\n",
              "2018       object\n",
              "2019       object\n",
              "Length: 61, dtype: object"
            ]
          },
          "metadata": {},
          "execution_count": 15
        }
      ]
    },
    {
      "cell_type": "markdown",
      "source": [
        "Para manipulação dos dados, convertemos as colunas com os anos em float64."
      ],
      "metadata": {
        "id": "m2SYsjDokedg"
      }
    },
    {
      "cell_type": "code",
      "source": [
        "\n",
        "cols = inflacao.columns[1:] #Seleção de colunas\n",
        "inflacao[cols] = inflacao[cols].apply(pd.to_numeric, errors='coerce') # convertendo colunas para float64\n",
        "inflacao.dtypes"
      ],
      "metadata": {
        "colab": {
          "base_uri": "https://localhost:8080/"
        },
        "id": "dAAX_1YNTgeO",
        "outputId": "c53f324d-7256-47ad-a5fd-57d72d5f4ad1"
      },
      "execution_count": null,
      "outputs": [
        {
          "output_type": "execute_result",
          "data": {
            "text/plain": [
              "country     object\n",
              "1960       float64\n",
              "1961       float64\n",
              "1962       float64\n",
              "1963       float64\n",
              "            ...   \n",
              "2015       float64\n",
              "2016       float64\n",
              "2017       float64\n",
              "2018       float64\n",
              "2019       float64\n",
              "Length: 61, dtype: object"
            ]
          },
          "metadata": {},
          "execution_count": 16
        }
      ]
    },
    {
      "cell_type": "markdown",
      "source": [
        "Registro histórico da inflação no Brasil"
      ],
      "metadata": {
        "id": "Zg0Ct5qalJqm"
      }
    },
    {
      "cell_type": "code",
      "source": [
        "\n",
        "g = inflacao.drop(columns=['country']) #Retirando a coluna 'country' para plotar o gráfico, a coluna é object\n",
        "\n",
        "BR = g.loc[26]  # Selecionando o Brasil\n",
        "\n",
        "BR\n"
      ],
      "metadata": {
        "colab": {
          "base_uri": "https://localhost:8080/"
        },
        "id": "3W7sskuJe0W4",
        "outputId": "f63473a8-b7b2-4240-f401-70d6175ec840"
      },
      "execution_count": null,
      "outputs": [
        {
          "output_type": "execute_result",
          "data": {
            "text/plain": [
              "1960      31.30\n",
              "1961      78.80\n",
              "1962      69.80\n",
              "1963      93.80\n",
              "1964      51.40\n",
              "1965      39.40\n",
              "1966      29.20\n",
              "1967      26.70\n",
              "1968      20.90\n",
              "1969      17.10\n",
              "1970      20.30\n",
              "1971      19.10\n",
              "1972      22.70\n",
              "1973      34.80\n",
              "1974      33.90\n",
              "1975      47.60\n",
              "1976      46.20\n",
              "1977      41.10\n",
              "1978      56.50\n",
              "1979      87.30\n",
              "1980     107.00\n",
              "1981     105.00\n",
              "1982     140.00\n",
              "1983     213.00\n",
              "1984     232.00\n",
              "1985     145.00\n",
              "1986     204.00\n",
              "1987     651.00\n",
              "1988    1210.00\n",
              "1989    2700.00\n",
              "1990     414.00\n",
              "1991     968.00\n",
              "1992    2000.00\n",
              "1993    2300.00\n",
              "1994      89.50\n",
              "1995      18.50\n",
              "1996       7.73\n",
              "1997       4.92\n",
              "1998       8.01\n",
              "1999       5.61\n",
              "2000       8.23\n",
              "2001       9.80\n",
              "2002      14.10\n",
              "2003       7.75\n",
              "2004       7.43\n",
              "2005       6.77\n",
              "2006       6.44\n",
              "2007       8.78\n",
              "2008       7.31\n",
              "2009       8.42\n",
              "2010       8.32\n",
              "2011       7.94\n",
              "2012       7.50\n",
              "2013       7.85\n",
              "2014       7.57\n",
              "2015       8.10\n",
              "2016       3.67\n",
              "2017       4.49\n",
              "2018       4.28\n",
              "2019       4.81\n",
              "Name: 26, dtype: float64"
            ]
          },
          "metadata": {},
          "execution_count": 17
        }
      ]
    },
    {
      "cell_type": "markdown",
      "source": [
        "No gráfico é possível visualizar a aplicação do Plano Real em 1994 e estabilização da inflação pós Plano Real.\n"
      ],
      "metadata": {
        "id": "b1MYsuBfmFiF"
      }
    },
    {
      "cell_type": "code",
      "source": [
        "# Aplicação do plano Real \n",
        "# É possível identificar a eficácia da implementação do plano Real para contenção da inflação\n",
        "fig, ax = plt.subplots(figsize=(15, 6))\n",
        "plt.plot(BR)  \n",
        "ax.set(xlim=[30, 61],ylim=[0,20], xlabel='Anos', ylabel='Inflação(%)', title='Inflação histórica do Brazil')\n",
        "plt.show()  # Gráfico inflação Brazil"
      ],
      "metadata": {
        "colab": {
          "base_uri": "https://localhost:8080/",
          "height": 404
        },
        "id": "wEo6qAhyicMu",
        "outputId": "c9d08023-4f0e-4297-bd23-5dbdd156a005"
      },
      "execution_count": null,
      "outputs": [
        {
          "output_type": "display_data",
          "data": {
            "text/plain": [
              "<Figure size 1080x432 with 1 Axes>"
            ],
            "image/png": "[encoded data removed]"
          },
          "metadata": {
            "needs_background": "light"
          }
        }
      ]
    },
    {
      "cell_type": "markdown",
      "source": [
        "No gráfico é possível visualizar as maiores inflações no último ano de registro do Dataframe."
      ],
      "metadata": {
        "id": "YC2-5dxQmrU3"
      }
    },
    {
      "cell_type": "code",
      "source": [
        "\n",
        "inf2019 = inflacao.nlargest(5, '2019')\n",
        "inf2019\n",
        "x = inf2019.country\n",
        "y = inf2019['2019']\n",
        "fig, ax = plt.subplots()\n",
        "ax.barh(x, y)\n",
        "ax.set(xlabel='Inflação(%)', ylabel='Países',\n",
        "       title='Países com maiores inflações em 2019')"
      ],
      "metadata": {
        "colab": {
          "base_uri": "https://localhost:8080/",
          "height": 347
        },
        "id": "YxtgMV2iA4ED",
        "outputId": "7d3e51cf-ea6e-4923-a179-e4f26a7d5d7b"
      },
      "execution_count": null,
      "outputs": [
        {
          "output_type": "execute_result",
          "data": {
            "text/plain": [
              "[Text(0, 0.5, 'Países'),\n",
              " Text(0.5, 0, 'Inflação(%)'),\n",
              " Text(0.5, 1.0, 'Países com maiores inflações em 2019')]"
            ]
          },
          "metadata": {},
          "execution_count": 19
        },
        {
          "output_type": "display_data",
          "data": {
            "text/plain": [
              "<Figure size 432x288 with 1 Axes>"
            ],
            "image/png": "[encoded data removed]"
          },
          "metadata": {
            "needs_background": "light"
          }
        }
      ]
    },
    {
      "cell_type": "markdown",
      "source": [
        "E na sequência as menores inflações em 2019"
      ],
      "metadata": {
        "id": "8dK9O6wootTt"
      }
    },
    {
      "cell_type": "code",
      "source": [
        "inf2019 = inflacao.nsmallest(5, '2019')\n",
        "inf2019\n",
        "x = inf2019.country\n",
        "y = inf2019['2019']\n",
        "fig, ax = plt.subplots()\n",
        "ax.barh(x, y)\n",
        "ax.set(xlabel='Inflação(%)', ylabel='Países',\n",
        "       title='Países com menores inflações em 2019')"
      ],
      "metadata": {
        "colab": {
          "base_uri": "https://localhost:8080/",
          "height": 347
        },
        "id": "o5X8r6yundQS",
        "outputId": "8ab34399-9360-40bd-ac74-9a9d3e6d76fa"
      },
      "execution_count": null,
      "outputs": [
        {
          "output_type": "execute_result",
          "data": {
            "text/plain": [
              "[Text(0, 0.5, 'Países'),\n",
              " Text(0.5, 0, 'Inflação(%)'),\n",
              " Text(0.5, 1.0, 'Países com menores inflações em 2019')]"
            ]
          },
          "metadata": {},
          "execution_count": 20
        },
        {
          "output_type": "display_data",
          "data": {
            "text/plain": [
              "<Figure size 432x288 with 1 Axes>"
            ],
            "image/png": "[encoded data removed]"
          },
          "metadata": {
            "needs_background": "light"
          }
        }
      ]
    },
    {
      "cell_type": "markdown",
      "source": [
        "O desenvolvimento da tarefa trouxe uma amostra das diversas formas de trabalhar e manipular os dados, de como um dataframe não muito grande é possível extrair muita informação. A escolha de um dataframe da inflação dos países pesou pelo tema inflação estar sempre em evidência, por impactar a economia do país e o poder de compra das pessoas. E análise realizada traz algumas informações sobre o tema."
      ],
      "metadata": {
        "id": "-maidGtOpEPN"
      }
    }
  ]
}